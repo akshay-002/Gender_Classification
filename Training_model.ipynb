{
 "cells": [
  {
   "cell_type": "markdown",
   "id": "cc223064-7398-4f70-bd05-1927527bb035",
   "metadata": {},
   "source": [
    "<div style=\"background-color: #c34a4a; color: #FFFFFF; padding: 5px; text-align: center; border-radius: 15px; box-shadow: 0 4px 8px rgba(0, 0, 0, 0.5);\">\n",
    "  <h1 style=\"margin: 0; font-family: 'Helvetica Neue', Helvetica, Arial, sans-serif; font-weight: bold; font-size: 32px;\"> GENDER RECOGINITION FROM FACIAL IMAGES</h1>\n",
    "  <p style=\"margin: 10px 0; font-size: 32px; font-style: italic; text-align: center;\">using Convolutional Neural Networks</p>\n",
    "</div>\n",
    "\n",
    "\n"
   ]
  },
  {
   "cell_type": "markdown",
   "id": "ac558376-83d6-42d3-b99c-b4b3943adc8c",
   "metadata": {},
   "source": [
    "<div style=\"background-color: #2D2D2D; color: #FFFFFF; padding: 10px; text-align: center; border-radius: 15px; box-shadow: 0 4px 8px rgba(0, 0, 0, 0);\">\n",
    "  <h2 style=\"margin: 0; font-family: 'Helvetica Neue', Helvetica, Arial, sans-serif; font-weight: bold;\">BUSINESS UNDERSTANDING</h2>\n",
    "</div>\n"
   ]
  },
  {
   "cell_type": "markdown",
   "id": "08e21e51-e24e-4539-8874-d4f2c2e70205",
   "metadata": {},
   "source": [
    "\n",
    "This project aims to improve marketing strategies, customize user experiences, and bolster security measures using Convolutional Neural Networks (CNNs). By analyzing facial images to predict gender, businesses can better understand their customer demographics, refine advertising efforts, and strengthen identity verification systems. Developing reliable CNN models enables data-driven decision-making, enhances operational efficiency, and fosters more meaningful interactions with customers."
   ]
  },
  {
   "cell_type": "markdown",
   "id": "5f669e71-c050-4b77-bcd5-980c119d68de",
   "metadata": {},
   "source": [
    "<div style=\"background-color: #2D2D2D; color: #FFFFFF; padding: 10px; text-align: center; border-radius: 15px; box-shadow: 0 4px 8px rgba(0, 0, 0, 0);\">\n",
    "  <h2 style=\"margin: 0; font-family: 'Helvetica Neue', Helvetica, Arial, sans-serif; font-weight: bold;\">Table of Contents</h2>\n",
    "</div>\n"
   ]
  },
  {
   "cell_type": "markdown",
   "id": "a263d405-ffe4-480f-8e33-322fc68ca519",
   "metadata": {},
   "source": [
    "[1. Data Preprocessing](#-1-Data-Preprocessing)\n",
    "\n",
    "[2. Training](#2-Training )\n",
    "\n",
    "[3. Test Set Evaluation](#3-Test-Set-Evaluation)\n",
    "\n",
    "[4. Summary](#3-Summary)"
   ]
  },
  {
   "cell_type": "code",
   "execution_count": 17,
   "id": "initial_id",
   "metadata": {
    "ExecuteTime": {
     "end_time": "2024-05-10T12:52:26.190060Z",
     "start_time": "2024-05-10T12:50:59.525175Z"
    }
   },
   "outputs": [],
   "source": [
    "#import packages \n",
    "\n",
    "import os\n",
    "import numpy as np\n",
    "import matplotlib.pyplot as plt\n",
    "from tensorflow.keras import layers\n",
    "from tensorflow.keras import Model\n",
    "from tensorflow.keras.preprocessing.image import ImageDataGenerator\n",
    "import tensorflow as tf\n",
    "from keras.optimizers import Adam\n",
    "from keras.preprocessing import image"
   ]
  },
  {
   "cell_type": "markdown",
   "id": "da83335b-1fd2-49df-87e9-6ccec86cf153",
   "metadata": {},
   "source": [
    "<div style=\"background-color: #2D2D2D; color: #FFFFFF; padding: 10px; text-align: center; border-radius: 15px; box-shadow: 0 4px 8px rgba(0, 0, 0, 0);\">\n",
    "  <h2 style=\"margin: 0; font-family: 'Helvetica Neue', Helvetica, Arial, sans-serif; font-weight: bold;\">Data Preprocessing</h2>\n",
    "</div>\n"
   ]
  },
  {
   "cell_type": "code",
   "execution_count": 18,
   "id": "337c043b7038763",
   "metadata": {
    "ExecuteTime": {
     "end_time": "2024-05-10T12:55:14.786983Z",
     "start_time": "2024-05-10T12:55:10.841466Z"
    },
    "collapsed": false
   },
   "outputs": [
    {
     "name": "stdout",
     "output_type": "stream",
     "text": [
      "Found 160000 images belonging to 2 classes.\n",
      "Found 22598 images belonging to 2 classes.\n"
     ]
    }
   ],
   "source": [
    "# Data preprocessing for training images:\n",
    "train_datagen = ImageDataGenerator(rescale = 1./255,\n",
    "                                   rotation_range=40,\n",
    "                                   width_shift_range=0.2,\n",
    "                                   height_shift_range=0.2,\n",
    "                                   shear_range=0.2,\n",
    "                                   zoom_range=0.2,\n",
    "                                   horizontal_flip=True,\n",
    "                                   fill_mode='nearest')\n",
    "\n",
    "# Data preprocessing for testing images:\n",
    "test_datagen = ImageDataGenerator( rescale = 1.0/255)\n",
    "\n",
    "\n",
    "# Training data generator:\n",
    "train_generator = train_datagen.flow_from_directory(\"/Users/akshay/projects/Gender_classification/Dataset/Train\",\n",
    "                                                    batch_size =256 ,\n",
    "                                                    class_mode = 'binary',\n",
    "                                                    target_size = (64, 64))\n",
    "# Validation data generator:\n",
    "validation_generator =  test_datagen.flow_from_directory(\"/Users/akshay/projects/Gender_classification/Dataset/Validation\",\n",
    "                                                          batch_size  = 256,\n",
    "                                                          class_mode  = 'binary',\n",
    "                                                          target_size = (64, 64))"
   ]
  },
  {
   "cell_type": "markdown",
   "id": "4edf6e9b-d2b0-4eb0-b414-78f9d2c12497",
   "metadata": {},
   "source": [
    "<div style=\"background-color: #2D2D2D; color: #FFFFFF; padding: 10px; text-align: center; border-radius: 15px; box-shadow: 0 4px 8px rgba(0, 0, 0, 0);\">\n",
    "  <h2 style=\"margin: 0; font-family: 'Helvetica Neue', Helvetica, Arial, sans-serif; font-weight: bold;\">Model Training </h2>\n",
    "</div>\n"
   ]
  },
  {
   "cell_type": "code",
   "execution_count": 12,
   "id": "63e062859eb297e6",
   "metadata": {
    "ExecuteTime": {
     "end_time": "2024-05-10T12:55:38.174402Z",
     "start_time": "2024-05-10T12:55:17.723956Z"
    },
    "collapsed": false
   },
   "outputs": [
    {
     "name": "stdout",
     "output_type": "stream",
     "text": [
      "Epoch 1/50\n",
      "256/256 [==============================] - ETA: 0s - loss: 0.9079 - accuracy: 0.5875WARNING:tensorflow:Your input ran out of data; interrupting training. Make sure that your dataset or generator can generate at least `steps_per_epoch * epochs` batches (in this case, 256 batches). You may need to use the repeat() function when building your dataset.\n"
     ]
    },
    {
     "name": "stderr",
     "output_type": "stream",
     "text": [
      "WARNING:tensorflow:Your input ran out of data; interrupting training. Make sure that your dataset or generator can generate at least `steps_per_epoch * epochs` batches (in this case, 256 batches). You may need to use the repeat() function when building your dataset.\n"
     ]
    },
    {
     "name": "stdout",
     "output_type": "stream",
     "text": [
      "256/256 [==============================] - 911s 4s/step - loss: 0.9079 - accuracy: 0.5875 - val_loss: 0.5878 - val_accuracy: 0.6794\n",
      "Epoch 2/50\n",
      "256/256 [==============================] - 880s 3s/step - loss: 0.5482 - accuracy: 0.7235\n",
      "Epoch 3/50\n",
      "256/256 [==============================] - 955s 4s/step - loss: 0.4932 - accuracy: 0.7650\n",
      "Epoch 4/50\n",
      "256/256 [==============================] - 882s 3s/step - loss: 0.4515 - accuracy: 0.7917\n",
      "Epoch 5/50\n",
      "256/256 [==============================] - 839s 3s/step - loss: 0.4152 - accuracy: 0.8132\n",
      "Epoch 6/50\n",
      "256/256 [==============================] - 861s 3s/step - loss: 0.3719 - accuracy: 0.8352\n",
      "Epoch 7/50\n",
      "256/256 [==============================] - 1045s 4s/step - loss: 0.3422 - accuracy: 0.8504\n",
      "Epoch 8/50\n",
      "256/256 [==============================] - 1165s 5s/step - loss: 0.3153 - accuracy: 0.8646\n",
      "Epoch 9/50\n",
      "256/256 [==============================] - 1131s 4s/step - loss: 0.2928 - accuracy: 0.8732\n",
      "Epoch 10/50\n",
      "256/256 [==============================] - 978s 4s/step - loss: 0.2818 - accuracy: 0.8803\n",
      "Epoch 11/50\n",
      "256/256 [==============================] - 908s 4s/step - loss: 0.2755 - accuracy: 0.8837\n",
      "Epoch 12/50\n",
      "256/256 [==============================] - 1086s 4s/step - loss: 0.2634 - accuracy: 0.8893\n",
      "Epoch 13/50\n",
      "256/256 [==============================] - 1245s 5s/step - loss: 0.2574 - accuracy: 0.8929\n",
      "Epoch 14/50\n",
      "256/256 [==============================] - 997s 4s/step - loss: 0.2523 - accuracy: 0.8927\n",
      "Epoch 15/50\n",
      "256/256 [==============================] - 919s 4s/step - loss: 0.2500 - accuracy: 0.8959\n",
      "Epoch 16/50\n",
      "256/256 [==============================] - 859s 3s/step - loss: 0.2405 - accuracy: 0.9005\n",
      "Epoch 17/50\n",
      "256/256 [==============================] - 803s 3s/step - loss: 0.2364 - accuracy: 0.9020\n",
      "Epoch 18/50\n",
      "256/256 [==============================] - 969s 4s/step - loss: 0.2318 - accuracy: 0.9033\n",
      "Epoch 19/50\n",
      "256/256 [==============================] - 1031s 4s/step - loss: 0.2323 - accuracy: 0.9023\n",
      "Epoch 20/50\n",
      "256/256 [==============================] - 905s 4s/step - loss: 0.2240 - accuracy: 0.9080\n",
      "Epoch 21/50\n",
      "256/256 [==============================] - 877s 3s/step - loss: 0.2241 - accuracy: 0.9089\n",
      "Epoch 22/50\n",
      "256/256 [==============================] - 865s 3s/step - loss: 0.2312 - accuracy: 0.9052\n",
      "Epoch 23/50\n",
      "256/256 [==============================] - 860s 3s/step - loss: 0.2238 - accuracy: 0.9066\n",
      "Epoch 24/50\n",
      "256/256 [==============================] - 861s 3s/step - loss: 0.2245 - accuracy: 0.9080\n",
      "Epoch 25/50\n",
      "256/256 [==============================] - 865s 3s/step - loss: 0.2190 - accuracy: 0.9084\n",
      "Epoch 26/50\n",
      "256/256 [==============================] - 863s 3s/step - loss: 0.2158 - accuracy: 0.9104\n",
      "Epoch 27/50\n",
      "256/256 [==============================] - 865s 3s/step - loss: 0.2143 - accuracy: 0.9108\n",
      "Epoch 28/50\n",
      "256/256 [==============================] - 858s 3s/step - loss: 0.2158 - accuracy: 0.9122\n",
      "Epoch 29/50\n",
      "256/256 [==============================] - 771s 3s/step - loss: 0.2169 - accuracy: 0.9111\n",
      "Epoch 30/50\n",
      "256/256 [==============================] - 777s 3s/step - loss: 0.2097 - accuracy: 0.9145\n",
      "Epoch 31/50\n",
      "256/256 [==============================] - 762s 3s/step - loss: 0.2028 - accuracy: 0.9170\n",
      "Epoch 32/50\n",
      "256/256 [==============================] - 768s 3s/step - loss: 0.2160 - accuracy: 0.9104\n",
      "Epoch 33/50\n",
      "256/256 [==============================] - 768s 3s/step - loss: 0.2050 - accuracy: 0.9157\n",
      "Epoch 34/50\n",
      "256/256 [==============================] - 768s 3s/step - loss: 0.2445 - accuracy: 0.8986\n",
      "Epoch 35/50\n",
      "256/256 [==============================] - 767s 3s/step - loss: 0.2316 - accuracy: 0.9042\n",
      "Epoch 36/50\n",
      "256/256 [==============================] - 770s 3s/step - loss: 0.2169 - accuracy: 0.9109\n",
      "Epoch 37/50\n",
      "256/256 [==============================] - 764s 3s/step - loss: 0.2074 - accuracy: 0.9159\n",
      "Epoch 38/50\n",
      "256/256 [==============================] - 767s 3s/step - loss: 0.2019 - accuracy: 0.9179\n",
      "Epoch 39/50\n",
      "256/256 [==============================] - 766s 3s/step - loss: 0.1964 - accuracy: 0.9207\n",
      "Epoch 40/50\n",
      "256/256 [==============================] - 769s 3s/step - loss: 0.1925 - accuracy: 0.9208\n",
      "Epoch 41/50\n",
      "256/256 [==============================] - 771s 3s/step - loss: 0.1936 - accuracy: 0.9210\n",
      "Epoch 42/50\n",
      "256/256 [==============================] - 773s 3s/step - loss: 0.1919 - accuracy: 0.9211\n",
      "Epoch 43/50\n",
      "256/256 [==============================] - 774s 3s/step - loss: 0.1900 - accuracy: 0.9228\n",
      "Epoch 44/50\n",
      "256/256 [==============================] - 774s 3s/step - loss: 0.1901 - accuracy: 0.9218\n",
      "Epoch 45/50\n",
      "256/256 [==============================] - 776s 3s/step - loss: 0.1888 - accuracy: 0.9245\n",
      "Epoch 46/50\n",
      "256/256 [==============================] - 775s 3s/step - loss: 0.1878 - accuracy: 0.9234\n",
      "Epoch 47/50\n",
      "256/256 [==============================] - 770s 3s/step - loss: 0.1874 - accuracy: 0.9238\n",
      "Epoch 48/50\n",
      "256/256 [==============================] - 772s 3s/step - loss: 0.1836 - accuracy: 0.9256\n",
      "Epoch 49/50\n",
      "256/256 [==============================] - 772s 3s/step - loss: 0.1888 - accuracy: 0.9234\n",
      "Epoch 50/50\n",
      "256/256 [==============================] - 772s 3s/step - loss: 0.1848 - accuracy: 0.9249\n"
     ]
    }
   ],
   "source": [
    "# train and compile the neural network model for the task of Gender classification with Python:\n",
    "model = tf.keras.models.Sequential([\n",
    "    # 1st conv\n",
    "    tf.keras.layers.Conv2D(96, (11,11),strides=(4,4), activation='relu', input_shape=(64, 64, 3)),\n",
    "    tf.keras.layers.BatchNormalization(),\n",
    "    tf.keras.layers.MaxPooling2D(2, strides=(2,2)),\n",
    "    \n",
    "    # 2nd conv\n",
    "    tf.keras.layers.Conv2D(256, (11,11),strides=(1,1), activation='relu',padding=\"same\"),\n",
    "    tf.keras.layers.BatchNormalization(),\n",
    "    \n",
    "    # 3rd conv\n",
    "    tf.keras.layers.Conv2D(384, (3,3),strides=(1,1), activation='relu',padding=\"same\"),\n",
    "    tf.keras.layers.BatchNormalization(),\n",
    "    \n",
    "    # 4th conv\n",
    "    tf.keras.layers.Conv2D(384, (3,3),strides=(1,1), activation='relu',padding=\"same\"),\n",
    "    tf.keras.layers.BatchNormalization(),\n",
    "    \n",
    "    # 5th Conv\n",
    "    tf.keras.layers.Conv2D(256, (3, 3), strides=(1, 1), activation='relu',padding=\"same\"),\n",
    "    tf.keras.layers.BatchNormalization(),\n",
    "    tf.keras.layers.MaxPooling2D(2, strides=(2, 2)),\n",
    "    \n",
    "    # To Flatten layer\n",
    "    tf.keras.layers.Flatten(),\n",
    "    \n",
    "    # To FC layer 1\n",
    "    tf.keras.layers.Dense(4096, activation='relu'),\n",
    "    tf.keras.layers.Dropout(0.5),\n",
    "    \n",
    "    #To FC layer 2\n",
    "    tf.keras.layers.Dense(4096, activation='relu'),\n",
    "    tf.keras.layers.Dropout(0.5),\n",
    "    \n",
    "    tf.keras.layers.Dense(1, activation='sigmoid')\n",
    "])\n",
    "\n",
    "# Compile the model with specified optimizer, loss function, and evaluation metrics\n",
    "model.compile(\n",
    "    optimizer=Adam(learning_rate=0.001), # Adam optimizer with learning rate 0.001\n",
    "    loss='binary_crossentropy', # Binary cross-entropy loss function for binary classification task\n",
    "    metrics=['accuracy'] # Accuracy metric to monitor during training\n",
    ")\n",
    "\n",
    "# Train the model using the specified training and validation generators\n",
    "hist = model.fit(train_generator,\n",
    "                 validation_data=validation_generator,\n",
    "                 steps_per_epoch=256,\n",
    "                 validation_steps=256,\n",
    "                 epochs=50)"
   ]
  },
  {
   "cell_type": "code",
   "execution_count": 29,
   "id": "edbf6546-380a-476a-b516-182910819e86",
   "metadata": {},
   "outputs": [],
   "source": [
    "# Save the trained model to a HDF5 file\n",
    "model.save('gender_classification_model.h5')"
   ]
  },
  {
   "cell_type": "markdown",
   "id": "6a0fb95e-06bf-4c71-ae33-3c36dd03d5de",
   "metadata": {},
   "source": [
    "<div style=\"background-color: #2D2D2D; color: #FFFFFF; padding: 10px; text-align: center; border-radius: 15px; box-shadow: 0 4px 8px rgba(0, 0, 0, 0);\">\n",
    "  <h2 style=\"margin: 0; font-family: 'Helvetica Neue', Helvetica, Arial, sans-serif; font-weight: bold;\">Summary</h2>\n",
    "</div>\n"
   ]
  },
  {
   "cell_type": "markdown",
   "id": "9d4a2a6e-6018-407c-b335-0487acf2eed0",
   "metadata": {},
   "source": [
    "The gender classification model was trained using a dataset consisting of 202,609 images. During the training process, the model achieved a loss of 0.1848 and an accuracy of 92.49%. These metrics indicate that the model has learned to effectively distinguish between male and female genders based on facial images. With a high accuracy rate and relatively low loss, the trained model demonstrates strong performance and reliability in gender prediction tasks."
   ]
  },
  {
   "cell_type": "markdown",
   "id": "3b909846-3246-4e26-96d3-2e8978233a6e",
   "metadata": {},
   "source": [
    "The trained model has been saved as \"**gender_classification_model.h5**\"\n",
    "\n",
    "To evaluate its performance, the model achieved 100% accuracy on the female dataset and 94% accuracy on the male dataset, resulting in a total accuracy of 97% on the test dataset.\n"
   ]
  },
  {
   "cell_type": "code",
   "execution_count": null,
   "id": "6cf3886a-d655-430c-b99e-38c7f7c9dbda",
   "metadata": {},
   "outputs": [],
   "source": []
  }
 ],
 "metadata": {
  "kernelspec": {
   "display_name": "Python 3 (ipykernel)",
   "language": "python",
   "name": "python3"
  },
  "language_info": {
   "codemirror_mode": {
    "name": "ipython",
    "version": 3
   },
   "file_extension": ".py",
   "mimetype": "text/x-python",
   "name": "python",
   "nbconvert_exporter": "python",
   "pygments_lexer": "ipython3",
   "version": "3.8.5"
  }
 },
 "nbformat": 4,
 "nbformat_minor": 5
}
